{
 "cells": [
  {
   "cell_type": "markdown",
   "metadata": {
    "id": "kXz32mE2ig9-"
   },
   "source": [
    "# **Simple Linear Regression**"
   ]
  },
  {
   "cell_type": "markdown",
   "metadata": {
    "id": "kKGKWeQejRGD"
   },
   "source": [
    "**SANDESH BHAT** - **Data Science and Business Analytics**\n",
    "\n",
    "\n",
    "\n"
   ]
  },
  {
   "cell_type": "markdown",
   "metadata": {
    "id": "nEOdTzRqzQv6"
   },
   "source": [
    "**Task #1**\n",
    "\n",
    "\n",
    "\n",
    "\n",
    "\n",
    "\n",
    "\n",
    "\n"
   ]
  },
  {
   "cell_type": "markdown",
   "metadata": {
    "id": "th6E180ly_7W"
   },
   "source": [
    "**Prediction using Supervised ML**\n",
    "\n",
    "Predict the percentage of a student based on the no. of study hours.\n",
    "\n",
    "● This is a simple linear regression task as it involves just 2 variables.\n",
    "\n",
    "● You can use R, Python, SAS Enterprise Miner or any other tool\n",
    "\n",
    "● Data can be found at http://bit.ly/w-data\n",
    "\n",
    "● What will be predicted score if a student studies for 9.25 hrs/ day?\n",
    "\n",
    "---\n"
   ]
  },
  {
   "cell_type": "markdown",
   "metadata": {
    "id": "rpirLjyFyv8r"
   },
   "source": [
    "# Importing the libraries"
   ]
  },
  {
   "cell_type": "code",
   "execution_count": null,
   "metadata": {
    "id": "WMQpdYMKKEUl"
   },
   "outputs": [],
   "source": [
    "import pandas as pd\n",
    "import numpy as np\n",
    "\n",
    "# for visualization\n",
    "import seaborn as sns\n",
    "import matplotlib.pyplot as plt"
   ]
  },
  {
   "cell_type": "markdown",
   "metadata": {
    "id": "jMLXJK7z0Tnq"
   },
   "source": [
    "# Importing the dataset"
   ]
  },
  {
   "cell_type": "code",
   "execution_count": null,
   "metadata": {
    "id": "kR2aLShtKL93"
   },
   "outputs": [],
   "source": [
    "path = 'http://bit.ly/w-data'\n",
    "dataframe = pd.read_csv(path)"
   ]
  },
  {
   "cell_type": "code",
   "execution_count": null,
   "metadata": {
    "colab": {
     "base_uri": "https://localhost:8080/",
     "height": 204
    },
    "id": "NkKgVsoZKsoU",
    "outputId": "25b12136-ecf2-4c55-cbef-6bd6ecf80a05"
   },
   "outputs": [
    {
     "data": {
      "text/html": [
       "<div>\n",
       "<style scoped>\n",
       "    .dataframe tbody tr th:only-of-type {\n",
       "        vertical-align: middle;\n",
       "    }\n",
       "\n",
       "    .dataframe tbody tr th {\n",
       "        vertical-align: top;\n",
       "    }\n",
       "\n",
       "    .dataframe thead th {\n",
       "        text-align: right;\n",
       "    }\n",
       "</style>\n",
       "<table border=\"1\" class=\"dataframe\">\n",
       "  <thead>\n",
       "    <tr style=\"text-align: right;\">\n",
       "      <th></th>\n",
       "      <th>Hours</th>\n",
       "      <th>Scores</th>\n",
       "    </tr>\n",
       "  </thead>\n",
       "  <tbody>\n",
       "    <tr>\n",
       "      <th>0</th>\n",
       "      <td>2.5</td>\n",
       "      <td>21</td>\n",
       "    </tr>\n",
       "    <tr>\n",
       "      <th>1</th>\n",
       "      <td>5.1</td>\n",
       "      <td>47</td>\n",
       "    </tr>\n",
       "    <tr>\n",
       "      <th>2</th>\n",
       "      <td>3.2</td>\n",
       "      <td>27</td>\n",
       "    </tr>\n",
       "    <tr>\n",
       "      <th>3</th>\n",
       "      <td>8.5</td>\n",
       "      <td>75</td>\n",
       "    </tr>\n",
       "    <tr>\n",
       "      <th>4</th>\n",
       "      <td>3.5</td>\n",
       "      <td>30</td>\n",
       "    </tr>\n",
       "  </tbody>\n",
       "</table>\n",
       "</div>"
      ],
      "text/plain": [
       "   Hours  Scores\n",
       "0    2.5      21\n",
       "1    5.1      47\n",
       "2    3.2      27\n",
       "3    8.5      75\n",
       "4    3.5      30"
      ]
     },
     "execution_count": 3,
     "metadata": {
      "tags": []
     },
     "output_type": "execute_result"
    }
   ],
   "source": [
    "dataframe.head()"
   ]
  },
  {
   "cell_type": "markdown",
   "metadata": {
    "id": "aL5ZplrH0hxT"
   },
   "source": [
    "**Barplot of the given data**"
   ]
  },
  {
   "cell_type": "code",
   "execution_count": null,
   "metadata": {
    "colab": {
     "base_uri": "https://localhost:8080/",
     "height": 523
    },
    "id": "yoxEETTffbra",
    "outputId": "e1c56e04-aba4-462c-ece7-f8573f32bcd8"
   },
   "outputs": [
    {
     "data": {
      "image/png": "[encoded data removed]",
      "text/plain": [
       "<Figure size 1080x576 with 1 Axes>"
      ]
     },
     "metadata": {
      "tags": []
     },
     "output_type": "display_data"
    }
   ],
   "source": [
    "# to modify the length and width of the graph\n",
    "plt.figure(figsize=(15,8))\n",
    "# context manager to give a facecolor and axes color\n",
    "plt.rc_context({'axes.edgecolor':'#581845', 'xtick.color':'black', 'ytick.color':'black', 'figure.facecolor':'#F1D8DD'})\n",
    "plt.grid(True)\n",
    "\n",
    "plt.title(\"Hours vs Scores\", fontweight = 'bold', fontsize = 20)\n",
    "plt.xlabel(\"\", fontsize = 15, fontweight = 'bold')\n",
    "plt.ylabel(\"\", fontsize = 15, fontweight = 'bold')\n",
    "\n",
    "sns.barplot(x = 'Hours',y = 'Scores',data = dataframe)\n",
    "plt.show()"
   ]
  },
  {
   "cell_type": "markdown",
   "metadata": {
    "id": "TDlsLEufkK3E"
   },
   "source": [
    "From the above bar graph as the number of hours per day increases according to the trend the score also increases."
   ]
  },
  {
   "cell_type": "markdown",
   "metadata": {
    "id": "n-7TQG5d3JwJ"
   },
   "source": [
    "# Taking care of Missing data"
   ]
  },
  {
   "cell_type": "code",
   "execution_count": null,
   "metadata": {
    "colab": {
     "base_uri": "https://localhost:8080/"
    },
    "id": "IsaOutV7281z",
    "outputId": "87c1c8e9-35ab-4887-f0bb-55fde07b9ab6"
   },
   "outputs": [
    {
     "data": {
      "text/plain": [
       "Hours     0\n",
       "Scores    0\n",
       "dtype: int64"
      ]
     },
     "execution_count": 16,
     "metadata": {
      "tags": []
     },
     "output_type": "execute_result"
    }
   ],
   "source": [
    "dataframe.isnull().sum()"
   ]
  },
  {
   "cell_type": "markdown",
   "metadata": {
    "id": "iCVDonW03Hjs"
   },
   "source": [
    "**No missing data**\n",
    "\n"
   ]
  },
  {
   "cell_type": "code",
   "execution_count": null,
   "metadata": {
    "colab": {
     "base_uri": "https://localhost:8080/",
     "height": 297
    },
    "id": "7EMJhXmI3RqY",
    "outputId": "84be2d37-5b41-495b-f5cc-b1d0ee672827"
   },
   "outputs": [
    {
     "data": {
      "text/html": [
       "<div>\n",
       "<style scoped>\n",
       "    .dataframe tbody tr th:only-of-type {\n",
       "        vertical-align: middle;\n",
       "    }\n",
       "\n",
       "    .dataframe tbody tr th {\n",
       "        vertical-align: top;\n",
       "    }\n",
       "\n",
       "    .dataframe thead th {\n",
       "        text-align: right;\n",
       "    }\n",
       "</style>\n",
       "<table border=\"1\" class=\"dataframe\">\n",
       "  <thead>\n",
       "    <tr style=\"text-align: right;\">\n",
       "      <th></th>\n",
       "      <th>Hours</th>\n",
       "      <th>Scores</th>\n",
       "    </tr>\n",
       "  </thead>\n",
       "  <tbody>\n",
       "    <tr>\n",
       "      <th>count</th>\n",
       "      <td>25.000000</td>\n",
       "      <td>25.000000</td>\n",
       "    </tr>\n",
       "    <tr>\n",
       "      <th>mean</th>\n",
       "      <td>5.012000</td>\n",
       "      <td>51.480000</td>\n",
       "    </tr>\n",
       "    <tr>\n",
       "      <th>std</th>\n",
       "      <td>2.525094</td>\n",
       "      <td>25.286887</td>\n",
       "    </tr>\n",
       "    <tr>\n",
       "      <th>min</th>\n",
       "      <td>1.100000</td>\n",
       "      <td>17.000000</td>\n",
       "    </tr>\n",
       "    <tr>\n",
       "      <th>25%</th>\n",
       "      <td>2.700000</td>\n",
       "      <td>30.000000</td>\n",
       "    </tr>\n",
       "    <tr>\n",
       "      <th>50%</th>\n",
       "      <td>4.800000</td>\n",
       "      <td>47.000000</td>\n",
       "    </tr>\n",
       "    <tr>\n",
       "      <th>75%</th>\n",
       "      <td>7.400000</td>\n",
       "      <td>75.000000</td>\n",
       "    </tr>\n",
       "    <tr>\n",
       "      <th>max</th>\n",
       "      <td>9.200000</td>\n",
       "      <td>95.000000</td>\n",
       "    </tr>\n",
       "  </tbody>\n",
       "</table>\n",
       "</div>"
      ],
      "text/plain": [
       "           Hours     Scores\n",
       "count  25.000000  25.000000\n",
       "mean    5.012000  51.480000\n",
       "std     2.525094  25.286887\n",
       "min     1.100000  17.000000\n",
       "25%     2.700000  30.000000\n",
       "50%     4.800000  47.000000\n",
       "75%     7.400000  75.000000\n",
       "max     9.200000  95.000000"
      ]
     },
     "execution_count": 17,
     "metadata": {
      "tags": []
     },
     "output_type": "execute_result"
    }
   ],
   "source": [
    "# To generate descriptive statistics.\n",
    "dataframe.describe()"
   ]
  },
  {
   "cell_type": "code",
   "execution_count": null,
   "metadata": {
    "colab": {
     "base_uri": "https://localhost:8080/"
    },
    "id": "2YppXHbE3VzJ",
    "outputId": "a41dc2bd-0819-4c3b-9ca2-461385bed62f"
   },
   "outputs": [
    {
     "data": {
      "text/plain": [
       "Hours     float64\n",
       "Scores      int64\n",
       "dtype: object"
      ]
     },
     "execution_count": 19,
     "metadata": {
      "tags": []
     },
     "output_type": "execute_result"
    }
   ],
   "source": [
    "# to check the datatypes\n",
    "dataframe.dtypes"
   ]
  },
  {
   "cell_type": "code",
   "execution_count": null,
   "metadata": {
    "colab": {
     "base_uri": "https://localhost:8080/",
     "height": 204
    },
    "id": "UuMgOn67wskG",
    "outputId": "d9c39344-ca1f-4873-8909-f132eea5f37a"
   },
   "outputs": [
    {
     "data": {
      "text/html": [
       "<div>\n",
       "<style scoped>\n",
       "    .dataframe tbody tr th:only-of-type {\n",
       "        vertical-align: middle;\n",
       "    }\n",
       "\n",
       "    .dataframe tbody tr th {\n",
       "        vertical-align: top;\n",
       "    }\n",
       "\n",
       "    .dataframe thead th {\n",
       "        text-align: right;\n",
       "    }\n",
       "</style>\n",
       "<table border=\"1\" class=\"dataframe\">\n",
       "  <thead>\n",
       "    <tr style=\"text-align: right;\">\n",
       "      <th></th>\n",
       "      <th>Hours</th>\n",
       "      <th>Scores</th>\n",
       "    </tr>\n",
       "  </thead>\n",
       "  <tbody>\n",
       "    <tr>\n",
       "      <th>5</th>\n",
       "      <td>1.5</td>\n",
       "      <td>20</td>\n",
       "    </tr>\n",
       "    <tr>\n",
       "      <th>2</th>\n",
       "      <td>3.2</td>\n",
       "      <td>27</td>\n",
       "    </tr>\n",
       "    <tr>\n",
       "      <th>19</th>\n",
       "      <td>7.4</td>\n",
       "      <td>69</td>\n",
       "    </tr>\n",
       "    <tr>\n",
       "      <th>16</th>\n",
       "      <td>2.5</td>\n",
       "      <td>30</td>\n",
       "    </tr>\n",
       "    <tr>\n",
       "      <th>11</th>\n",
       "      <td>5.9</td>\n",
       "      <td>62</td>\n",
       "    </tr>\n",
       "  </tbody>\n",
       "</table>\n",
       "</div>"
      ],
      "text/plain": [
       "    Hours  Scores\n",
       "5     1.5      20\n",
       "2     3.2      27\n",
       "19    7.4      69\n",
       "16    2.5      30\n",
       "11    5.9      62"
      ]
     },
     "execution_count": 5,
     "metadata": {
      "tags": []
     },
     "output_type": "execute_result"
    }
   ],
   "source": [
    "# to randomize the dataset\n",
    "dataframe = dataframe.sample(n=len(dataframe), random_state=0)\n",
    "dataframe.head()"
   ]
  },
  {
   "cell_type": "markdown",
   "metadata": {
    "id": "2PqKw4sh1hHT"
   },
   "source": [
    "To assign Dependent and Independent variables"
   ]
  },
  {
   "cell_type": "code",
   "execution_count": null,
   "metadata": {
    "id": "Q1eQvhjzNJxU"
   },
   "outputs": [],
   "source": [
    "X = dataframe.iloc[: , :1].values   #Independent variable\n",
    "y = dataframe.iloc[:, -1].values    #Dependent Variable"
   ]
  },
  {
   "cell_type": "code",
   "execution_count": null,
   "metadata": {
    "colab": {
     "base_uri": "https://localhost:8080/"
    },
    "id": "lpLjIJ3ENeAR",
    "outputId": "845f89d0-1846-4f9d-c3a1-01e28128dadb"
   },
   "outputs": [
    {
     "data": {
      "text/plain": [
       "(array([[1.5],\n",
       "        [3.2],\n",
       "        [7.4],\n",
       "        [2.5],\n",
       "        [5.9],\n",
       "        [3.8],\n",
       "        [1.9],\n",
       "        [7.8],\n",
       "        [6.9],\n",
       "        [1.1],\n",
       "        [5.1],\n",
       "        [7.7],\n",
       "        [3.3],\n",
       "        [8.3],\n",
       "        [9.2],\n",
       "        [6.1],\n",
       "        [3.5],\n",
       "        [2.7],\n",
       "        [5.5],\n",
       "        [2.7],\n",
       "        [8.5],\n",
       "        [2.5],\n",
       "        [4.8],\n",
       "        [8.9],\n",
       "        [4.5]]),\n",
       " array([20, 27, 69, 30, 62, 35, 24, 86, 76, 17, 47, 85, 42, 81, 88, 67, 30,\n",
       "        25, 60, 30, 75, 21, 54, 95, 41]))"
      ]
     },
     "execution_count": 7,
     "metadata": {
      "tags": []
     },
     "output_type": "execute_result"
    }
   ],
   "source": [
    "X,y"
   ]
  },
  {
   "cell_type": "markdown",
   "metadata": {
    "id": "4rGQ63sN1zo8"
   },
   "source": [
    "# **Training the model**\n",
    "\n",
    "The entire dataset is used to train the model considering the size of the dataset"
   ]
  },
  {
   "cell_type": "code",
   "execution_count": null,
   "metadata": {
    "colab": {
     "base_uri": "https://localhost:8080/"
    },
    "id": "i8kixshZh_om",
    "outputId": "89d3121e-aa85-4a7c-f17d-1f29ba4ad1b6",
    "scrolled": true
   },
   "outputs": [
    {
     "data": {
      "text/plain": [
       "LinearRegression(copy_X=True, fit_intercept=True, n_jobs=None, normalize=False)"
      ]
     },
     "execution_count": 8,
     "metadata": {
      "tags": []
     },
     "output_type": "execute_result"
    }
   ],
   "source": [
    "from sklearn.linear_model import LinearRegression\n",
    "regressor = LinearRegression()\n",
    "regressor.fit(X,y)"
   ]
  },
  {
   "cell_type": "markdown",
   "metadata": {
    "id": "1qrSAexk15H9"
   },
   "source": [
    "# **Predicting Values**"
   ]
  },
  {
   "cell_type": "code",
   "execution_count": null,
   "metadata": {
    "id": "ZGnc5ZcWi2lp"
   },
   "outputs": [],
   "source": [
    "y_pred = regressor.predict(X)"
   ]
  },
  {
   "cell_type": "markdown",
   "metadata": {
    "id": "zr6G1W4k1_lM"
   },
   "source": []
  },
  {
   "cell_type": "code",
   "execution_count": null,
   "metadata": {
    "colab": {
     "base_uri": "https://localhost:8080/",
     "height": 204
    },
    "id": "OpewUtSpuK15",
    "outputId": "72bf41ee-4757-45b5-9176-3d4b5fc0949a"
   },
   "outputs": [
    {
     "data": {
      "text/html": [
       "<div>\n",
       "<style scoped>\n",
       "    .dataframe tbody tr th:only-of-type {\n",
       "        vertical-align: middle;\n",
       "    }\n",
       "\n",
       "    .dataframe tbody tr th {\n",
       "        vertical-align: top;\n",
       "    }\n",
       "\n",
       "    .dataframe thead th {\n",
       "        text-align: right;\n",
       "    }\n",
       "</style>\n",
       "<table border=\"1\" class=\"dataframe\">\n",
       "  <thead>\n",
       "    <tr style=\"text-align: right;\">\n",
       "      <th></th>\n",
       "      <th>Actual Scores</th>\n",
       "      <th>Predicted Scores</th>\n",
       "    </tr>\n",
       "  </thead>\n",
       "  <tbody>\n",
       "    <tr>\n",
       "      <th>5</th>\n",
       "      <td>20</td>\n",
       "      <td>17.147378</td>\n",
       "    </tr>\n",
       "    <tr>\n",
       "      <th>2</th>\n",
       "      <td>27</td>\n",
       "      <td>33.766244</td>\n",
       "    </tr>\n",
       "    <tr>\n",
       "      <th>19</th>\n",
       "      <td>69</td>\n",
       "      <td>74.824618</td>\n",
       "    </tr>\n",
       "    <tr>\n",
       "      <th>16</th>\n",
       "      <td>30</td>\n",
       "      <td>26.923182</td>\n",
       "    </tr>\n",
       "    <tr>\n",
       "      <th>11</th>\n",
       "      <td>62</td>\n",
       "      <td>60.160913</td>\n",
       "    </tr>\n",
       "  </tbody>\n",
       "</table>\n",
       "</div>"
      ],
      "text/plain": [
       "    Actual Scores  Predicted Scores\n",
       "5              20         17.147378\n",
       "2              27         33.766244\n",
       "19             69         74.824618\n",
       "16             30         26.923182\n",
       "11             62         60.160913"
      ]
     },
     "execution_count": 10,
     "metadata": {
      "tags": []
     },
     "output_type": "execute_result"
    }
   ],
   "source": [
    "# Creates a dataframe with actual scores and the predicted scores\n",
    "predDataframe = pd.DataFrame({\"Actual Scores\" : dataframe[\"Scores\"], \"Predicted Scores\" : y_pred})\n",
    "predDataframe.head()"
   ]
  },
  {
   "cell_type": "code",
   "execution_count": null,
   "metadata": {
    "colab": {
     "base_uri": "https://localhost:8080/"
    },
    "id": "jScsZ7I6mEN9",
    "outputId": "82442ebc-0653-47a9-ade3-a9a7d0f2c35e"
   },
   "outputs": [
    {
     "name": "stdout",
     "output_type": "stream",
     "text": [
      "If a student studie for 9.25 hours then the predicted score obtained by that student is  [92.90985477]\n"
     ]
    }
   ],
   "source": [
    "print(\"If a student studie for 9.25 hours then the predicted score obtained by that student is \",regressor.predict([[9.25]]))"
   ]
  },
  {
   "cell_type": "markdown",
   "metadata": {
    "id": "xzdJwGdh2MQg"
   },
   "source": [
    "# **Visualization**"
   ]
  },
  {
   "cell_type": "code",
   "execution_count": null,
   "metadata": {
    "colab": {
     "base_uri": "https://localhost:8080/",
     "height": 295
    },
    "id": "oWlIb8JJS6JG",
    "outputId": "61aae1a8-2957-4f39-b650-73d134785aa8"
   },
   "outputs": [
    {
     "data": {
      "image/png": "[encoded data removed]",
      "text/plain": [
       "<Figure size 432x288 with 1 Axes>"
      ]
     },
     "metadata": {
      "tags": []
     },
     "output_type": "display_data"
    }
   ],
   "source": [
    "plt.scatter(X, y, c = '#7CC7EC')\n",
    "plt.plot(X, y_pred, c = '#A96BA8')\n",
    "plt.grid(True)\n",
    "plt.title('Score vs Hours', fontweight = 'bold')\n",
    "plt.xlabel('Hours', fontweight = 'bold')\n",
    "plt.ylabel('Scores', fontweight = 'bold')\n",
    "plt.show()"
   ]
  },
  {
   "cell_type": "markdown",
   "metadata": {
    "id": "HUBEoV8G47Ol"
   },
   "source": [
    "**Scatter plot of actual vs predicted graph**"
   ]
  },
  {
   "cell_type": "code",
   "execution_count": null,
   "metadata": {
    "colab": {
     "base_uri": "https://localhost:8080/",
     "height": 295
    },
    "id": "m82YPckCy08E",
    "outputId": "76c44954-b2e3-48e6-e4b6-e12badcc7ae0"
   },
   "outputs": [
    {
     "data": {
      "image/png": "[encoded data removed]",
      "text/plain": [
       "<Figure size 432x288 with 1 Axes>"
      ]
     },
     "metadata": {
      "tags": []
     },
     "output_type": "display_data"
    }
   ],
   "source": [
    "predDataframe['Hours'] = dataframe['Hours']\n",
    "plt.title(\"Actual Scores vs Predicted Scores\",fontweight = 'bold')\n",
    "plt.xlabel(\"\",fontweight = 'bold')\n",
    "plt.ylabel(\"\",fontweight = 'bold')\n",
    "sns.scatterplot(x = 'Actual Scores',y = 'Predicted Scores', hue = 'Hours',data = predDataframe)\n",
    "plt.grid(True)\n",
    "plt.show()"
   ]
  },
  {
   "cell_type": "markdown",
   "metadata": {
    "id": "GzYnF-hb4iZE"
   },
   "source": [
    "# **Evaluate the model**"
   ]
  },
  {
   "cell_type": "code",
   "execution_count": null,
   "metadata": {
    "colab": {
     "base_uri": "https://localhost:8080/"
    },
    "id": "rairu_CMT1fn",
    "outputId": "cc24c980-9d59-480f-ff0f-448ac3b3d96d"
   },
   "outputs": [
    {
     "data": {
      "text/plain": [
       "('r2 Score = ', 0.9506250148245328, 'Mean Absolute Error', 4.972805319866374)"
      ]
     },
     "execution_count": 12,
     "metadata": {
      "tags": []
     },
     "output_type": "execute_result"
    }
   ],
   "source": [
    "from sklearn.metrics import r2_score, mean_absolute_error\n",
    "f'r2 Score = ',r2_score(y_pred,y),'Mean Absolute Error', mean_absolute_error(y_pred,y)"
   ]
  }
 ],
 "metadata": {
  "colab": {
   "name": "Student_Scores.ipynb",
   "provenance": []
  },
  "kernelspec": {
   "display_name": "Python 3",
   "language": "python",
   "name": "python3"
  },
  "language_info": {
   "codemirror_mode": {
    "name": "ipython",
    "version": 3
   },
   "file_extension": ".py",
   "mimetype": "text/x-python",
   "name": "python",
   "nbconvert_exporter": "python",
   "pygments_lexer": "ipython3",
   "version": "3.8.5"
  }
 },
 "nbformat": 4,
 "nbformat_minor": 1
}
